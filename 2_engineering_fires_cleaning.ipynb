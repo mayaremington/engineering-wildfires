{
 "cells": [
  {
   "cell_type": "markdown",
   "id": "intense-worker",
   "metadata": {},
   "source": [
    "# Cleaning: California wildfires"
   ]
  },
  {
   "cell_type": "code",
   "execution_count": 1,
   "id": "scenic-springer",
   "metadata": {},
   "outputs": [],
   "source": [
    "import pandas as pd\n",
    "import numpy as np\n",
    "import matplotlib.pyplot as plt\n",
    "import seaborn as sns\n",
    "\n",
    "from sqlalchemy import create_engine\n",
    "from sqlalchemy import inspect\n",
    "\n",
    "%matplotlib inline"
   ]
  },
  {
   "cell_type": "markdown",
   "id": "imported-gibson",
   "metadata": {},
   "source": [
    "## Data import & cleaning "
   ]
  },
  {
   "cell_type": "markdown",
   "id": "romantic-prison",
   "metadata": {},
   "source": [
    "### Importing SQL database"
   ]
  },
  {
   "cell_type": "code",
   "execution_count": 2,
   "id": "enhanced-story",
   "metadata": {},
   "outputs": [],
   "source": [
    "# importing SQL database (from webscraping notebook)\n",
    "\n",
    "engine = create_engine('sqlite:///wildfires.db')\n",
    "fire_df = pd.read_sql('SELECT * FROM raw_data', con=engine)"
   ]
  },
  {
   "cell_type": "code",
   "execution_count": 3,
   "id": "stretch-imperial",
   "metadata": {},
   "outputs": [
    {
     "data": {
      "text/html": [
       "<div>\n",
       "<style scoped>\n",
       "    .dataframe tbody tr th:only-of-type {\n",
       "        vertical-align: middle;\n",
       "    }\n",
       "\n",
       "    .dataframe tbody tr th {\n",
       "        vertical-align: top;\n",
       "    }\n",
       "\n",
       "    .dataframe thead th {\n",
       "        text-align: right;\n",
       "    }\n",
       "</style>\n",
       "<table border=\"1\" class=\"dataframe\">\n",
       "  <thead>\n",
       "    <tr style=\"text-align: right;\">\n",
       "      <th></th>\n",
       "      <th>name</th>\n",
       "      <th>start_date</th>\n",
       "      <th>counties</th>\n",
       "      <th>acres</th>\n",
       "      <th>last_updated</th>\n",
       "      <th>date_started</th>\n",
       "      <th>date_contained</th>\n",
       "      <th>lat_long</th>\n",
       "      <th>cause</th>\n",
       "      <th>destroyed</th>\n",
       "      <th>fatalities</th>\n",
       "    </tr>\n",
       "  </thead>\n",
       "  <tbody>\n",
       "    <tr>\n",
       "      <th>0</th>\n",
       "      <td>Sanderson Fire</td>\n",
       "      <td>12/12/2020</td>\n",
       "      <td>Riverside</td>\n",
       "      <td>1933.0</td>\n",
       "      <td>12/14/20 5:50 PM</td>\n",
       "      <td>12/13/20 1:00 AM</td>\n",
       "      <td>12/14/20 5:50PM</td>\n",
       "      <td>[33.93244, -117.03459]</td>\n",
       "      <td>Under Investigation</td>\n",
       "      <td>0</td>\n",
       "      <td>0</td>\n",
       "    </tr>\n",
       "    <tr>\n",
       "      <th>1</th>\n",
       "      <td>Cornell Fire</td>\n",
       "      <td>12/7/2020</td>\n",
       "      <td>Ventura</td>\n",
       "      <td>174.0</td>\n",
       "      <td>12/17/20 11:18 AM</td>\n",
       "      <td>12/07/20 11:44 AM</td>\n",
       "      <td>12/08/20 11:17AM</td>\n",
       "      <td>[34.33622, -119.078]</td>\n",
       "      <td>None</td>\n",
       "      <td>0</td>\n",
       "      <td>0</td>\n",
       "    </tr>\n",
       "    <tr>\n",
       "      <th>2</th>\n",
       "      <td>Thomas Fire</td>\n",
       "      <td>12/3/2020</td>\n",
       "      <td>Lassen</td>\n",
       "      <td>24.0</td>\n",
       "      <td>12/03/20 6:36 PM</td>\n",
       "      <td>12/03/20 1:32 PM</td>\n",
       "      <td>12/03/20 5:40PM</td>\n",
       "      <td>[41.591948, -120.374514]</td>\n",
       "      <td>None</td>\n",
       "      <td>0</td>\n",
       "      <td>0</td>\n",
       "    </tr>\n",
       "    <tr>\n",
       "      <th>3</th>\n",
       "      <td>Cerritos Fire</td>\n",
       "      <td>12/2/2020</td>\n",
       "      <td>Riverside</td>\n",
       "      <td>200.0</td>\n",
       "      <td>12/04/20 6:45 PM</td>\n",
       "      <td>12/03/20 2:06 AM</td>\n",
       "      <td>None</td>\n",
       "      <td>[33.773754, -117.051463]</td>\n",
       "      <td>Under Investigation</td>\n",
       "      <td>0</td>\n",
       "      <td>0</td>\n",
       "    </tr>\n",
       "    <tr>\n",
       "      <th>4</th>\n",
       "      <td>Bond Fire</td>\n",
       "      <td>12/2/2020</td>\n",
       "      <td>Orange</td>\n",
       "      <td>6686.0</td>\n",
       "      <td>12/17/20 1:15 PM</td>\n",
       "      <td>12/02/20 10:14 PM</td>\n",
       "      <td>12/10/20 6:59PM</td>\n",
       "      <td>[33.743842, -117.674967]</td>\n",
       "      <td>None</td>\n",
       "      <td>31</td>\n",
       "      <td>0</td>\n",
       "    </tr>\n",
       "  </tbody>\n",
       "</table>\n",
       "</div>"
      ],
      "text/plain": [
       "             name  start_date   counties   acres       last_updated  \\\n",
       "0  Sanderson Fire  12/12/2020  Riverside  1933.0   12/14/20 5:50 PM   \n",
       "1    Cornell Fire   12/7/2020    Ventura   174.0  12/17/20 11:18 AM   \n",
       "2     Thomas Fire   12/3/2020     Lassen    24.0   12/03/20 6:36 PM   \n",
       "3   Cerritos Fire   12/2/2020  Riverside   200.0   12/04/20 6:45 PM   \n",
       "4       Bond Fire   12/2/2020     Orange  6686.0   12/17/20 1:15 PM   \n",
       "\n",
       "        date_started    date_contained                  lat_long  \\\n",
       "0   12/13/20 1:00 AM   12/14/20 5:50PM    [33.93244, -117.03459]   \n",
       "1  12/07/20 11:44 AM  12/08/20 11:17AM      [34.33622, -119.078]   \n",
       "2   12/03/20 1:32 PM   12/03/20 5:40PM  [41.591948, -120.374514]   \n",
       "3   12/03/20 2:06 AM              None  [33.773754, -117.051463]   \n",
       "4  12/02/20 10:14 PM   12/10/20 6:59PM  [33.743842, -117.674967]   \n",
       "\n",
       "                 cause destroyed  fatalities  \n",
       "0  Under Investigation         0           0  \n",
       "1                 None         0           0  \n",
       "2                 None         0           0  \n",
       "3  Under Investigation         0           0  \n",
       "4                 None        31           0  "
      ]
     },
     "execution_count": 3,
     "metadata": {},
     "output_type": "execute_result"
    }
   ],
   "source": [
    "fire_df.head()"
   ]
  },
  {
   "cell_type": "code",
   "execution_count": 4,
   "id": "bright-ferry",
   "metadata": {},
   "outputs": [
    {
     "data": {
      "text/plain": [
       "(1883, 11)"
      ]
     },
     "execution_count": 4,
     "metadata": {},
     "output_type": "execute_result"
    }
   ],
   "source": [
    "# 1893 wildfires over the course of 8 years\n",
    "\n",
    "fire_df.shape"
   ]
  },
  {
   "cell_type": "markdown",
   "id": "stock-jungle",
   "metadata": {},
   "source": [
    "### Data cleaning"
   ]
  },
  {
   "cell_type": "code",
   "execution_count": 5,
   "id": "rapid-fiction",
   "metadata": {},
   "outputs": [
    {
     "data": {
      "text/html": [
       "<div>\n",
       "<style scoped>\n",
       "    .dataframe tbody tr th:only-of-type {\n",
       "        vertical-align: middle;\n",
       "    }\n",
       "\n",
       "    .dataframe tbody tr th {\n",
       "        vertical-align: top;\n",
       "    }\n",
       "\n",
       "    .dataframe thead th {\n",
       "        text-align: right;\n",
       "    }\n",
       "</style>\n",
       "<table border=\"1\" class=\"dataframe\">\n",
       "  <thead>\n",
       "    <tr style=\"text-align: right;\">\n",
       "      <th></th>\n",
       "      <th>name</th>\n",
       "      <th>start_date</th>\n",
       "      <th>counties</th>\n",
       "      <th>acres</th>\n",
       "      <th>last_updated</th>\n",
       "      <th>date_started</th>\n",
       "      <th>date_contained</th>\n",
       "      <th>lat_long</th>\n",
       "      <th>cause</th>\n",
       "      <th>destroyed</th>\n",
       "      <th>fatalities</th>\n",
       "    </tr>\n",
       "  </thead>\n",
       "  <tbody>\n",
       "    <tr>\n",
       "      <th>0</th>\n",
       "      <td>Becks Fire</td>\n",
       "      <td>1/22/2013</td>\n",
       "      <td>Lake</td>\n",
       "      <td>296.0</td>\n",
       "      <td>01/23/13 10:15 AM</td>\n",
       "      <td>01/22/13 11:08 AM</td>\n",
       "      <td>01/23/13 10:15AM</td>\n",
       "      <td>None</td>\n",
       "      <td>Unknown</td>\n",
       "      <td>0</td>\n",
       "      <td>0</td>\n",
       "    </tr>\n",
       "    <tr>\n",
       "      <th>1</th>\n",
       "      <td>River Fire</td>\n",
       "      <td>2/24/2013</td>\n",
       "      <td>Inyo</td>\n",
       "      <td>406.0</td>\n",
       "      <td>02/28/13 8:00 PM</td>\n",
       "      <td>02/24/13 8:16 AM</td>\n",
       "      <td>02/28/13 8:00PM</td>\n",
       "      <td>[36.602575, -118.01651]</td>\n",
       "      <td>Under Investigation</td>\n",
       "      <td>0</td>\n",
       "      <td>0</td>\n",
       "    </tr>\n",
       "    <tr>\n",
       "      <th>2</th>\n",
       "      <td>Jurupa Fire</td>\n",
       "      <td>2/28/2013</td>\n",
       "      <td>Riverside</td>\n",
       "      <td>311.0</td>\n",
       "      <td>03/02/13 7:00 PM</td>\n",
       "      <td>02/28/13 4:43 PM</td>\n",
       "      <td>03/02/13 7:00PM</td>\n",
       "      <td>None</td>\n",
       "      <td>Unknown</td>\n",
       "      <td>0</td>\n",
       "      <td>0</td>\n",
       "    </tr>\n",
       "    <tr>\n",
       "      <th>3</th>\n",
       "      <td>Butte Fire</td>\n",
       "      <td>4/9/2013</td>\n",
       "      <td>Fresno</td>\n",
       "      <td>80.0</td>\n",
       "      <td>04/09/13 3:30 PM</td>\n",
       "      <td>04/09/13 12:35 PM</td>\n",
       "      <td>04/09/13 3:30PM</td>\n",
       "      <td>None</td>\n",
       "      <td>Unknown</td>\n",
       "      <td>0</td>\n",
       "      <td>0</td>\n",
       "    </tr>\n",
       "    <tr>\n",
       "      <th>4</th>\n",
       "      <td>Fawnskin Fire</td>\n",
       "      <td>4/20/2013</td>\n",
       "      <td>San Bernardino</td>\n",
       "      <td>30.0</td>\n",
       "      <td>04/22/13 9:00 AM</td>\n",
       "      <td>04/20/13 5:30 PM</td>\n",
       "      <td>04/22/13 9:00AM</td>\n",
       "      <td>[34.288877, -116.941311]</td>\n",
       "      <td>Unknown</td>\n",
       "      <td>0</td>\n",
       "      <td>0</td>\n",
       "    </tr>\n",
       "  </tbody>\n",
       "</table>\n",
       "</div>"
      ],
      "text/plain": [
       "            name start_date        counties  acres       last_updated  \\\n",
       "0     Becks Fire  1/22/2013            Lake  296.0  01/23/13 10:15 AM   \n",
       "1     River Fire  2/24/2013            Inyo  406.0   02/28/13 8:00 PM   \n",
       "2    Jurupa Fire  2/28/2013       Riverside  311.0   03/02/13 7:00 PM   \n",
       "3     Butte Fire   4/9/2013          Fresno   80.0   04/09/13 3:30 PM   \n",
       "4  Fawnskin Fire  4/20/2013  San Bernardino   30.0   04/22/13 9:00 AM   \n",
       "\n",
       "        date_started    date_contained                  lat_long  \\\n",
       "0  01/22/13 11:08 AM  01/23/13 10:15AM                      None   \n",
       "1   02/24/13 8:16 AM   02/28/13 8:00PM   [36.602575, -118.01651]   \n",
       "2   02/28/13 4:43 PM   03/02/13 7:00PM                      None   \n",
       "3  04/09/13 12:35 PM   04/09/13 3:30PM                      None   \n",
       "4   04/20/13 5:30 PM   04/22/13 9:00AM  [34.288877, -116.941311]   \n",
       "\n",
       "                 cause destroyed  fatalities  \n",
       "0              Unknown         0           0  \n",
       "1  Under Investigation         0           0  \n",
       "2              Unknown         0           0  \n",
       "3              Unknown         0           0  \n",
       "4              Unknown         0           0  "
      ]
     },
     "execution_count": 5,
     "metadata": {},
     "output_type": "execute_result"
    }
   ],
   "source": [
    "# df is in reverse chronological order -> reverse and reset index\n",
    "\n",
    "fire_df = fire_df[::-1]\n",
    "fire_df = fire_df.reset_index(drop=True)\n",
    "fire_df.head()"
   ]
  },
  {
   "cell_type": "code",
   "execution_count": 6,
   "id": "musical-frank",
   "metadata": {},
   "outputs": [],
   "source": [
    "# convert start_date to DateTime format\n",
    "\n",
    "fire_df['start_date'] = pd.to_datetime(fire_df['start_date'])"
   ]
  },
  {
   "cell_type": "code",
   "execution_count": 7,
   "id": "ahead-filing",
   "metadata": {},
   "outputs": [],
   "source": [
    "# create a new column for year\n",
    "\n",
    "fire_df.insert(2, 'year', fire_df.start_date.dt.year)"
   ]
  },
  {
   "cell_type": "code",
   "execution_count": 8,
   "id": "nasty-vinyl",
   "metadata": {},
   "outputs": [
    {
     "data": {
      "text/html": [
       "<div>\n",
       "<style scoped>\n",
       "    .dataframe tbody tr th:only-of-type {\n",
       "        vertical-align: middle;\n",
       "    }\n",
       "\n",
       "    .dataframe tbody tr th {\n",
       "        vertical-align: top;\n",
       "    }\n",
       "\n",
       "    .dataframe thead th {\n",
       "        text-align: right;\n",
       "    }\n",
       "</style>\n",
       "<table border=\"1\" class=\"dataframe\">\n",
       "  <thead>\n",
       "    <tr style=\"text-align: right;\">\n",
       "      <th></th>\n",
       "      <th>name</th>\n",
       "      <th>start_date</th>\n",
       "      <th>year</th>\n",
       "      <th>counties</th>\n",
       "      <th>acres</th>\n",
       "      <th>last_updated</th>\n",
       "      <th>date_started</th>\n",
       "      <th>date_contained</th>\n",
       "      <th>lat_long</th>\n",
       "      <th>cause</th>\n",
       "      <th>destroyed</th>\n",
       "      <th>fatalities</th>\n",
       "    </tr>\n",
       "  </thead>\n",
       "  <tbody>\n",
       "    <tr>\n",
       "      <th>0</th>\n",
       "      <td>Becks Fire</td>\n",
       "      <td>2013-01-22</td>\n",
       "      <td>2013</td>\n",
       "      <td>Lake</td>\n",
       "      <td>296.0</td>\n",
       "      <td>01/23/13 10:15 AM</td>\n",
       "      <td>01/22/13 11:08 AM</td>\n",
       "      <td>01/23/13 10:15AM</td>\n",
       "      <td>None</td>\n",
       "      <td>Unknown</td>\n",
       "      <td>0</td>\n",
       "      <td>0</td>\n",
       "    </tr>\n",
       "    <tr>\n",
       "      <th>1</th>\n",
       "      <td>River Fire</td>\n",
       "      <td>2013-02-24</td>\n",
       "      <td>2013</td>\n",
       "      <td>Inyo</td>\n",
       "      <td>406.0</td>\n",
       "      <td>02/28/13 8:00 PM</td>\n",
       "      <td>02/24/13 8:16 AM</td>\n",
       "      <td>02/28/13 8:00PM</td>\n",
       "      <td>[36.602575, -118.01651]</td>\n",
       "      <td>Under Investigation</td>\n",
       "      <td>0</td>\n",
       "      <td>0</td>\n",
       "    </tr>\n",
       "    <tr>\n",
       "      <th>2</th>\n",
       "      <td>Jurupa Fire</td>\n",
       "      <td>2013-02-28</td>\n",
       "      <td>2013</td>\n",
       "      <td>Riverside</td>\n",
       "      <td>311.0</td>\n",
       "      <td>03/02/13 7:00 PM</td>\n",
       "      <td>02/28/13 4:43 PM</td>\n",
       "      <td>03/02/13 7:00PM</td>\n",
       "      <td>None</td>\n",
       "      <td>Unknown</td>\n",
       "      <td>0</td>\n",
       "      <td>0</td>\n",
       "    </tr>\n",
       "    <tr>\n",
       "      <th>3</th>\n",
       "      <td>Butte Fire</td>\n",
       "      <td>2013-04-09</td>\n",
       "      <td>2013</td>\n",
       "      <td>Fresno</td>\n",
       "      <td>80.0</td>\n",
       "      <td>04/09/13 3:30 PM</td>\n",
       "      <td>04/09/13 12:35 PM</td>\n",
       "      <td>04/09/13 3:30PM</td>\n",
       "      <td>None</td>\n",
       "      <td>Unknown</td>\n",
       "      <td>0</td>\n",
       "      <td>0</td>\n",
       "    </tr>\n",
       "    <tr>\n",
       "      <th>4</th>\n",
       "      <td>Fawnskin Fire</td>\n",
       "      <td>2013-04-20</td>\n",
       "      <td>2013</td>\n",
       "      <td>San Bernardino</td>\n",
       "      <td>30.0</td>\n",
       "      <td>04/22/13 9:00 AM</td>\n",
       "      <td>04/20/13 5:30 PM</td>\n",
       "      <td>04/22/13 9:00AM</td>\n",
       "      <td>[34.288877, -116.941311]</td>\n",
       "      <td>Unknown</td>\n",
       "      <td>0</td>\n",
       "      <td>0</td>\n",
       "    </tr>\n",
       "  </tbody>\n",
       "</table>\n",
       "</div>"
      ],
      "text/plain": [
       "            name start_date  year        counties  acres       last_updated  \\\n",
       "0     Becks Fire 2013-01-22  2013            Lake  296.0  01/23/13 10:15 AM   \n",
       "1     River Fire 2013-02-24  2013            Inyo  406.0   02/28/13 8:00 PM   \n",
       "2    Jurupa Fire 2013-02-28  2013       Riverside  311.0   03/02/13 7:00 PM   \n",
       "3     Butte Fire 2013-04-09  2013          Fresno   80.0   04/09/13 3:30 PM   \n",
       "4  Fawnskin Fire 2013-04-20  2013  San Bernardino   30.0   04/22/13 9:00 AM   \n",
       "\n",
       "        date_started    date_contained                  lat_long  \\\n",
       "0  01/22/13 11:08 AM  01/23/13 10:15AM                      None   \n",
       "1   02/24/13 8:16 AM   02/28/13 8:00PM   [36.602575, -118.01651]   \n",
       "2   02/28/13 4:43 PM   03/02/13 7:00PM                      None   \n",
       "3  04/09/13 12:35 PM   04/09/13 3:30PM                      None   \n",
       "4   04/20/13 5:30 PM   04/22/13 9:00AM  [34.288877, -116.941311]   \n",
       "\n",
       "                 cause destroyed  fatalities  \n",
       "0              Unknown         0           0  \n",
       "1  Under Investigation         0           0  \n",
       "2              Unknown         0           0  \n",
       "3              Unknown         0           0  \n",
       "4              Unknown         0           0  "
      ]
     },
     "execution_count": 8,
     "metadata": {},
     "output_type": "execute_result"
    }
   ],
   "source": [
    "fire_df.head()"
   ]
  },
  {
   "cell_type": "code",
   "execution_count": 9,
   "id": "bound-synthesis",
   "metadata": {},
   "outputs": [
    {
     "data": {
      "text/html": [
       "<div>\n",
       "<style scoped>\n",
       "    .dataframe tbody tr th:only-of-type {\n",
       "        vertical-align: middle;\n",
       "    }\n",
       "\n",
       "    .dataframe tbody tr th {\n",
       "        vertical-align: top;\n",
       "    }\n",
       "\n",
       "    .dataframe thead th {\n",
       "        text-align: right;\n",
       "    }\n",
       "</style>\n",
       "<table border=\"1\" class=\"dataframe\">\n",
       "  <thead>\n",
       "    <tr style=\"text-align: right;\">\n",
       "      <th></th>\n",
       "      <th></th>\n",
       "      <th>year</th>\n",
       "      <th>counties</th>\n",
       "      <th>acres</th>\n",
       "      <th>last_updated</th>\n",
       "      <th>date_started</th>\n",
       "      <th>date_contained</th>\n",
       "      <th>lat_long</th>\n",
       "      <th>cause</th>\n",
       "      <th>destroyed</th>\n",
       "      <th>fatalities</th>\n",
       "    </tr>\n",
       "    <tr>\n",
       "      <th>name</th>\n",
       "      <th>start_date</th>\n",
       "      <th></th>\n",
       "      <th></th>\n",
       "      <th></th>\n",
       "      <th></th>\n",
       "      <th></th>\n",
       "      <th></th>\n",
       "      <th></th>\n",
       "      <th></th>\n",
       "      <th></th>\n",
       "      <th></th>\n",
       "    </tr>\n",
       "  </thead>\n",
       "  <tbody>\n",
       "    <tr>\n",
       "      <th>Sandy Fire</th>\n",
       "      <th>2017-08-02</th>\n",
       "      <td>2</td>\n",
       "      <td>2</td>\n",
       "      <td>2</td>\n",
       "      <td>2</td>\n",
       "      <td>2</td>\n",
       "      <td>2</td>\n",
       "      <td>2</td>\n",
       "      <td>2</td>\n",
       "      <td>2</td>\n",
       "      <td>2</td>\n",
       "    </tr>\n",
       "    <tr>\n",
       "      <th>Bradley Fire</th>\n",
       "      <th>2017-08-28</th>\n",
       "      <td>2</td>\n",
       "      <td>2</td>\n",
       "      <td>2</td>\n",
       "      <td>2</td>\n",
       "      <td>2</td>\n",
       "      <td>2</td>\n",
       "      <td>2</td>\n",
       "      <td>2</td>\n",
       "      <td>2</td>\n",
       "      <td>2</td>\n",
       "    </tr>\n",
       "  </tbody>\n",
       "</table>\n",
       "</div>"
      ],
      "text/plain": [
       "                         year  counties  acres  last_updated  date_started  \\\n",
       "name         start_date                                                      \n",
       "Sandy Fire   2017-08-02     2         2      2             2             2   \n",
       "Bradley Fire 2017-08-28     2         2      2             2             2   \n",
       "\n",
       "                         date_contained  lat_long  cause  destroyed  \\\n",
       "name         start_date                                               \n",
       "Sandy Fire   2017-08-02               2         2      2          2   \n",
       "Bradley Fire 2017-08-28               2         2      2          2   \n",
       "\n",
       "                         fatalities  \n",
       "name         start_date              \n",
       "Sandy Fire   2017-08-02           2  \n",
       "Bradley Fire 2017-08-28           2  "
      ]
     },
     "execution_count": 9,
     "metadata": {},
     "output_type": "execute_result"
    }
   ],
   "source": [
    "# finding duplicates - looks like there are 2\n",
    "\n",
    "fire_df.groupby(['name', 'start_date']).count().sort_values(by='year', ascending=False).head(2)"
   ]
  },
  {
   "cell_type": "code",
   "execution_count": 10,
   "id": "governmental-nicaragua",
   "metadata": {},
   "outputs": [
    {
     "data": {
      "text/plain": [
       "(1881, 12)"
      ]
     },
     "execution_count": 10,
     "metadata": {},
     "output_type": "execute_result"
    }
   ],
   "source": [
    "# drop duplicates\n",
    "\n",
    "fire_df.drop_duplicates(inplace=True)\n",
    "fire_df.shape"
   ]
  },
  {
   "cell_type": "code",
   "execution_count": 11,
   "id": "steady-darkness",
   "metadata": {},
   "outputs": [
    {
     "data": {
      "text/html": [
       "<div>\n",
       "<style scoped>\n",
       "    .dataframe tbody tr th:only-of-type {\n",
       "        vertical-align: middle;\n",
       "    }\n",
       "\n",
       "    .dataframe tbody tr th {\n",
       "        vertical-align: top;\n",
       "    }\n",
       "\n",
       "    .dataframe thead th {\n",
       "        text-align: right;\n",
       "    }\n",
       "</style>\n",
       "<table border=\"1\" class=\"dataframe\">\n",
       "  <thead>\n",
       "    <tr style=\"text-align: right;\">\n",
       "      <th></th>\n",
       "      <th>name</th>\n",
       "      <th>start_date</th>\n",
       "      <th>year</th>\n",
       "      <th>counties</th>\n",
       "      <th>acres</th>\n",
       "      <th>last_updated</th>\n",
       "      <th>date_started</th>\n",
       "      <th>date_contained</th>\n",
       "      <th>lat_long</th>\n",
       "      <th>cause</th>\n",
       "      <th>destroyed</th>\n",
       "      <th>fatalities</th>\n",
       "    </tr>\n",
       "  </thead>\n",
       "  <tbody>\n",
       "    <tr>\n",
       "      <th>615</th>\n",
       "      <td>Taglio Fire</td>\n",
       "      <td>1969-12-31</td>\n",
       "      <td>1969</td>\n",
       "      <td>Merced</td>\n",
       "      <td>12.0</td>\n",
       "      <td>01/09/18 10:05 AM</td>\n",
       "      <td>12/31/69 4:00 PM</td>\n",
       "      <td>01/09/18 10:05AM</td>\n",
       "      <td>[37.21812, -121.07761]</td>\n",
       "      <td>Unknown</td>\n",
       "      <td>0</td>\n",
       "      <td>0</td>\n",
       "    </tr>\n",
       "    <tr>\n",
       "      <th>1051</th>\n",
       "      <td>Bridge Fire</td>\n",
       "      <td>1969-12-31</td>\n",
       "      <td>1969</td>\n",
       "      <td>Marin</td>\n",
       "      <td>45.0</td>\n",
       "      <td>01/04/19 9:22 AM</td>\n",
       "      <td>12/31/69 4:00 PM</td>\n",
       "      <td>01/04/19 9:22AM</td>\n",
       "      <td>[38.07135, -122.76751]</td>\n",
       "      <td>Unknown</td>\n",
       "      <td>0</td>\n",
       "      <td>0</td>\n",
       "    </tr>\n",
       "  </tbody>\n",
       "</table>\n",
       "</div>"
      ],
      "text/plain": [
       "             name start_date  year counties  acres       last_updated  \\\n",
       "615   Taglio Fire 1969-12-31  1969   Merced   12.0  01/09/18 10:05 AM   \n",
       "1051  Bridge Fire 1969-12-31  1969    Marin   45.0   01/04/19 9:22 AM   \n",
       "\n",
       "          date_started    date_contained                lat_long    cause  \\\n",
       "615   12/31/69 4:00 PM  01/09/18 10:05AM  [37.21812, -121.07761]  Unknown   \n",
       "1051  12/31/69 4:00 PM   01/04/19 9:22AM  [38.07135, -122.76751]  Unknown   \n",
       "\n",
       "     destroyed  fatalities  \n",
       "615          0           0  \n",
       "1051         0           0  "
      ]
     },
     "execution_count": 11,
     "metadata": {},
     "output_type": "execute_result"
    }
   ],
   "source": [
    "# 2 fires with '1969' start dates\n",
    "\n",
    "fire_df[fire_df['year'] == 1969]"
   ]
  },
  {
   "cell_type": "code",
   "execution_count": 12,
   "id": "august-might",
   "metadata": {},
   "outputs": [
    {
     "data": {
      "text/plain": [
       "(1879, 12)"
      ]
     },
     "execution_count": 12,
     "metadata": {},
     "output_type": "execute_result"
    }
   ],
   "source": [
    "# dropping fires with year outside 2013-2021\n",
    "\n",
    "fire_df = fire_df[(fire_df.year >= 2013) & (fire_df.year <= 2021)]\n",
    "fire_df = fire_df.reset_index(drop=True)\n",
    "fire_df.shape"
   ]
  },
  {
   "cell_type": "code",
   "execution_count": 13,
   "id": "contained-dakota",
   "metadata": {},
   "outputs": [],
   "source": [
    "# fixing 'destroyed' column - wasn't formatted properly during webscraping\n",
    "\n",
    "fire_df['destroyed'] = fire_df['destroyed'].astype('str').apply(lambda x: x.replace(',', '')).astype('int')"
   ]
  },
  {
   "cell_type": "code",
   "execution_count": 14,
   "id": "blank-cooling",
   "metadata": {},
   "outputs": [
    {
     "data": {
      "text/plain": [
       "1343    18804\n",
       "983      5636\n",
       "418      1955\n",
       "1348     1643\n",
       "1233     1614\n",
       "1848     1555\n",
       "1802     1490\n",
       "985      1355\n",
       "1035     1063\n",
       "413       877\n",
       "Name: destroyed, dtype: int64"
      ]
     },
     "execution_count": 14,
     "metadata": {},
     "output_type": "execute_result"
    }
   ],
   "source": [
    "# 'destroyed' is now fixed\n",
    "\n",
    "fire_df['destroyed'].sort_values(ascending=False).head(10)"
   ]
  },
  {
   "cell_type": "code",
   "execution_count": 15,
   "id": "conceptual-cleaners",
   "metadata": {},
   "outputs": [
    {
     "name": "stderr",
     "output_type": "stream",
     "text": [
      "<ipython-input-15-47d1c79a74da>:3: FutureWarning: The default value of regex will change from True to False in a future version. In addition, single character regular expressions will*not* be treated as literal strings when regex=True.\n",
      "  fire_df['lat_long'] = fire_df['lat_long'].str.replace('[', '') \\\n"
     ]
    }
   ],
   "source": [
    "# changing lat_long column format to that required by streamlit\n",
    "\n",
    "fire_df['lat_long'] = fire_df['lat_long'].str.replace('[', '') \\\n",
    "                .str.replace(']', '') \\\n",
    "                .str.split(',')\n",
    "fire_df['lat'] = fire_df['lat_long'].apply(lambda x: float(x[0]) if x != None else np.nan)\n",
    "fire_df['lon'] = fire_df['lat_long'].apply(lambda x: float(x[1]) if x != None else np.nan)\n",
    "fire_df = fire_df.drop(['lat_long'], axis=1)"
   ]
  },
  {
   "cell_type": "code",
   "execution_count": 16,
   "id": "parliamentary-obligation",
   "metadata": {},
   "outputs": [
    {
     "data": {
      "text/html": [
       "<div>\n",
       "<style scoped>\n",
       "    .dataframe tbody tr th:only-of-type {\n",
       "        vertical-align: middle;\n",
       "    }\n",
       "\n",
       "    .dataframe tbody tr th {\n",
       "        vertical-align: top;\n",
       "    }\n",
       "\n",
       "    .dataframe thead th {\n",
       "        text-align: right;\n",
       "    }\n",
       "</style>\n",
       "<table border=\"1\" class=\"dataframe\">\n",
       "  <thead>\n",
       "    <tr style=\"text-align: right;\">\n",
       "      <th></th>\n",
       "      <th>name</th>\n",
       "      <th>start_date</th>\n",
       "      <th>year</th>\n",
       "      <th>counties</th>\n",
       "      <th>acres</th>\n",
       "      <th>last_updated</th>\n",
       "      <th>date_started</th>\n",
       "      <th>date_contained</th>\n",
       "      <th>cause</th>\n",
       "      <th>destroyed</th>\n",
       "      <th>fatalities</th>\n",
       "      <th>lat</th>\n",
       "      <th>lon</th>\n",
       "    </tr>\n",
       "  </thead>\n",
       "  <tbody>\n",
       "    <tr>\n",
       "      <th>0</th>\n",
       "      <td>Becks Fire</td>\n",
       "      <td>2013-01-22</td>\n",
       "      <td>2013</td>\n",
       "      <td>Lake</td>\n",
       "      <td>296.0</td>\n",
       "      <td>01/23/13 10:15 AM</td>\n",
       "      <td>01/22/13 11:08 AM</td>\n",
       "      <td>01/23/13 10:15AM</td>\n",
       "      <td>Unknown</td>\n",
       "      <td>0</td>\n",
       "      <td>0</td>\n",
       "      <td>NaN</td>\n",
       "      <td>NaN</td>\n",
       "    </tr>\n",
       "    <tr>\n",
       "      <th>1</th>\n",
       "      <td>River Fire</td>\n",
       "      <td>2013-02-24</td>\n",
       "      <td>2013</td>\n",
       "      <td>Inyo</td>\n",
       "      <td>406.0</td>\n",
       "      <td>02/28/13 8:00 PM</td>\n",
       "      <td>02/24/13 8:16 AM</td>\n",
       "      <td>02/28/13 8:00PM</td>\n",
       "      <td>Under Investigation</td>\n",
       "      <td>0</td>\n",
       "      <td>0</td>\n",
       "      <td>36.602575</td>\n",
       "      <td>-118.016510</td>\n",
       "    </tr>\n",
       "    <tr>\n",
       "      <th>2</th>\n",
       "      <td>Jurupa Fire</td>\n",
       "      <td>2013-02-28</td>\n",
       "      <td>2013</td>\n",
       "      <td>Riverside</td>\n",
       "      <td>311.0</td>\n",
       "      <td>03/02/13 7:00 PM</td>\n",
       "      <td>02/28/13 4:43 PM</td>\n",
       "      <td>03/02/13 7:00PM</td>\n",
       "      <td>Unknown</td>\n",
       "      <td>0</td>\n",
       "      <td>0</td>\n",
       "      <td>NaN</td>\n",
       "      <td>NaN</td>\n",
       "    </tr>\n",
       "    <tr>\n",
       "      <th>3</th>\n",
       "      <td>Butte Fire</td>\n",
       "      <td>2013-04-09</td>\n",
       "      <td>2013</td>\n",
       "      <td>Fresno</td>\n",
       "      <td>80.0</td>\n",
       "      <td>04/09/13 3:30 PM</td>\n",
       "      <td>04/09/13 12:35 PM</td>\n",
       "      <td>04/09/13 3:30PM</td>\n",
       "      <td>Unknown</td>\n",
       "      <td>0</td>\n",
       "      <td>0</td>\n",
       "      <td>NaN</td>\n",
       "      <td>NaN</td>\n",
       "    </tr>\n",
       "    <tr>\n",
       "      <th>4</th>\n",
       "      <td>Fawnskin Fire</td>\n",
       "      <td>2013-04-20</td>\n",
       "      <td>2013</td>\n",
       "      <td>San Bernardino</td>\n",
       "      <td>30.0</td>\n",
       "      <td>04/22/13 9:00 AM</td>\n",
       "      <td>04/20/13 5:30 PM</td>\n",
       "      <td>04/22/13 9:00AM</td>\n",
       "      <td>Unknown</td>\n",
       "      <td>0</td>\n",
       "      <td>0</td>\n",
       "      <td>34.288877</td>\n",
       "      <td>-116.941311</td>\n",
       "    </tr>\n",
       "  </tbody>\n",
       "</table>\n",
       "</div>"
      ],
      "text/plain": [
       "            name start_date  year        counties  acres       last_updated  \\\n",
       "0     Becks Fire 2013-01-22  2013            Lake  296.0  01/23/13 10:15 AM   \n",
       "1     River Fire 2013-02-24  2013            Inyo  406.0   02/28/13 8:00 PM   \n",
       "2    Jurupa Fire 2013-02-28  2013       Riverside  311.0   03/02/13 7:00 PM   \n",
       "3     Butte Fire 2013-04-09  2013          Fresno   80.0   04/09/13 3:30 PM   \n",
       "4  Fawnskin Fire 2013-04-20  2013  San Bernardino   30.0   04/22/13 9:00 AM   \n",
       "\n",
       "        date_started    date_contained                cause  destroyed  \\\n",
       "0  01/22/13 11:08 AM  01/23/13 10:15AM              Unknown          0   \n",
       "1   02/24/13 8:16 AM   02/28/13 8:00PM  Under Investigation          0   \n",
       "2   02/28/13 4:43 PM   03/02/13 7:00PM              Unknown          0   \n",
       "3  04/09/13 12:35 PM   04/09/13 3:30PM              Unknown          0   \n",
       "4   04/20/13 5:30 PM   04/22/13 9:00AM              Unknown          0   \n",
       "\n",
       "   fatalities        lat         lon  \n",
       "0           0        NaN         NaN  \n",
       "1           0  36.602575 -118.016510  \n",
       "2           0        NaN         NaN  \n",
       "3           0        NaN         NaN  \n",
       "4           0  34.288877 -116.941311  "
      ]
     },
     "execution_count": 16,
     "metadata": {},
     "output_type": "execute_result"
    }
   ],
   "source": [
    "fire_df.head()"
   ]
  },
  {
   "cell_type": "markdown",
   "id": "welsh-saturn",
   "metadata": {},
   "source": [
    "### Storing cleaned data in a SQL db "
   ]
  },
  {
   "cell_type": "code",
   "execution_count": 17,
   "id": "linear-resolution",
   "metadata": {},
   "outputs": [],
   "source": [
    "# converting df to a SQL table\n",
    "\n",
    "fire_df.to_sql('cleaned_data', con=engine, \n",
    "               if_exists='replace', index=False)"
   ]
  },
  {
   "cell_type": "code",
   "execution_count": 18,
   "id": "neutral-mortgage",
   "metadata": {},
   "outputs": [],
   "source": [
    "# also exporting to csv for the purpose of posting on Github\n",
    "\n",
    "fire_df.to_csv('CA_wildfire_data', index=False)"
   ]
  },
  {
   "cell_type": "markdown",
   "id": "sustained-vaccine",
   "metadata": {},
   "source": [
    "## Creating figures for web app "
   ]
  },
  {
   "cell_type": "markdown",
   "id": "adapted-tiger",
   "metadata": {},
   "source": [
    "### Fires/acres/structures destroyed/fatalities per year plots"
   ]
  },
  {
   "cell_type": "code",
   "execution_count": 19,
   "id": "helpful-screen",
   "metadata": {},
   "outputs": [],
   "source": [
    "def get_per_year_df(measure):\n",
    "    '''Aggregating a given measure on a \"per year\" level. \n",
    "    Takes the size in order to calculate fires per year. \n",
    "    For all other measures, takes the sum.'''\n",
    "    \n",
    "    if measure == 'fires': \n",
    "        per_year = fire_df.groupby('year').size().reset_index()\n",
    "    else:\n",
    "        per_year = fire_df.groupby('year')[measure].sum().reset_index()\n",
    "    \n",
    "    per_year.columns = ['year', 'total']\n",
    "    return per_year"
   ]
  },
  {
   "cell_type": "code",
   "execution_count": 20,
   "id": "tired-yield",
   "metadata": {},
   "outputs": [
    {
     "data": {
      "text/html": [
       "<div>\n",
       "<style scoped>\n",
       "    .dataframe tbody tr th:only-of-type {\n",
       "        vertical-align: middle;\n",
       "    }\n",
       "\n",
       "    .dataframe tbody tr th {\n",
       "        vertical-align: top;\n",
       "    }\n",
       "\n",
       "    .dataframe thead th {\n",
       "        text-align: right;\n",
       "    }\n",
       "</style>\n",
       "<table border=\"1\" class=\"dataframe\">\n",
       "  <thead>\n",
       "    <tr style=\"text-align: right;\">\n",
       "      <th></th>\n",
       "      <th>year</th>\n",
       "      <th>total</th>\n",
       "    </tr>\n",
       "  </thead>\n",
       "  <tbody>\n",
       "    <tr>\n",
       "      <th>0</th>\n",
       "      <td>2013</td>\n",
       "      <td>159</td>\n",
       "    </tr>\n",
       "    <tr>\n",
       "      <th>1</th>\n",
       "      <td>2014</td>\n",
       "      <td>115</td>\n",
       "    </tr>\n",
       "    <tr>\n",
       "      <th>2</th>\n",
       "      <td>2015</td>\n",
       "      <td>157</td>\n",
       "    </tr>\n",
       "    <tr>\n",
       "      <th>3</th>\n",
       "      <td>2016</td>\n",
       "      <td>184</td>\n",
       "    </tr>\n",
       "    <tr>\n",
       "      <th>4</th>\n",
       "      <td>2017</td>\n",
       "      <td>433</td>\n",
       "    </tr>\n",
       "    <tr>\n",
       "      <th>5</th>\n",
       "      <td>2018</td>\n",
       "      <td>309</td>\n",
       "    </tr>\n",
       "    <tr>\n",
       "      <th>6</th>\n",
       "      <td>2019</td>\n",
       "      <td>264</td>\n",
       "    </tr>\n",
       "    <tr>\n",
       "      <th>7</th>\n",
       "      <td>2020</td>\n",
       "      <td>258</td>\n",
       "    </tr>\n",
       "  </tbody>\n",
       "</table>\n",
       "</div>"
      ],
      "text/plain": [
       "   year  total\n",
       "0  2013    159\n",
       "1  2014    115\n",
       "2  2015    157\n",
       "3  2016    184\n",
       "4  2017    433\n",
       "5  2018    309\n",
       "6  2019    264\n",
       "7  2020    258"
      ]
     },
     "execution_count": 20,
     "metadata": {},
     "output_type": "execute_result"
    }
   ],
   "source": [
    "fires_per_year = get_per_year_df(measure='fires')\n",
    "fires_per_year"
   ]
  },
  {
   "cell_type": "code",
   "execution_count": 21,
   "id": "aggregate-aggregate",
   "metadata": {},
   "outputs": [
    {
     "data": {
      "text/html": [
       "<div>\n",
       "<style scoped>\n",
       "    .dataframe tbody tr th:only-of-type {\n",
       "        vertical-align: middle;\n",
       "    }\n",
       "\n",
       "    .dataframe tbody tr th {\n",
       "        vertical-align: top;\n",
       "    }\n",
       "\n",
       "    .dataframe thead th {\n",
       "        text-align: right;\n",
       "    }\n",
       "</style>\n",
       "<table border=\"1\" class=\"dataframe\">\n",
       "  <thead>\n",
       "    <tr style=\"text-align: right;\">\n",
       "      <th></th>\n",
       "      <th>year</th>\n",
       "      <th>total</th>\n",
       "    </tr>\n",
       "  </thead>\n",
       "  <tbody>\n",
       "    <tr>\n",
       "      <th>0</th>\n",
       "      <td>2013</td>\n",
       "      <td>523</td>\n",
       "    </tr>\n",
       "    <tr>\n",
       "      <th>1</th>\n",
       "      <td>2014</td>\n",
       "      <td>440</td>\n",
       "    </tr>\n",
       "    <tr>\n",
       "      <th>2</th>\n",
       "      <td>2015</td>\n",
       "      <td>699</td>\n",
       "    </tr>\n",
       "    <tr>\n",
       "      <th>3</th>\n",
       "      <td>2016</td>\n",
       "      <td>500</td>\n",
       "    </tr>\n",
       "    <tr>\n",
       "      <th>4</th>\n",
       "      <td>2017</td>\n",
       "      <td>1566</td>\n",
       "    </tr>\n",
       "    <tr>\n",
       "      <th>5</th>\n",
       "      <td>2018</td>\n",
       "      <td>1617</td>\n",
       "    </tr>\n",
       "    <tr>\n",
       "      <th>6</th>\n",
       "      <td>2019</td>\n",
       "      <td>285</td>\n",
       "    </tr>\n",
       "    <tr>\n",
       "      <th>7</th>\n",
       "      <td>2020</td>\n",
       "      <td>2521</td>\n",
       "    </tr>\n",
       "  </tbody>\n",
       "</table>\n",
       "</div>"
      ],
      "text/plain": [
       "   year  total\n",
       "0  2013    523\n",
       "1  2014    440\n",
       "2  2015    699\n",
       "3  2016    500\n",
       "4  2017   1566\n",
       "5  2018   1617\n",
       "6  2019    285\n",
       "7  2020   2521"
      ]
     },
     "execution_count": 21,
     "metadata": {},
     "output_type": "execute_result"
    }
   ],
   "source": [
    "acres_per_year = get_per_year_df(measure='acres')\n",
    "\n",
    "# convert acres to thousands\n",
    "acres_per_year['total'] = acres_per_year['total'].apply(lambda x: int(x / 1000))\n",
    "acres_per_year"
   ]
  },
  {
   "cell_type": "code",
   "execution_count": 22,
   "id": "conceptual-forum",
   "metadata": {},
   "outputs": [
    {
     "data": {
      "text/html": [
       "<div>\n",
       "<style scoped>\n",
       "    .dataframe tbody tr th:only-of-type {\n",
       "        vertical-align: middle;\n",
       "    }\n",
       "\n",
       "    .dataframe tbody tr th {\n",
       "        vertical-align: top;\n",
       "    }\n",
       "\n",
       "    .dataframe thead th {\n",
       "        text-align: right;\n",
       "    }\n",
       "</style>\n",
       "<table border=\"1\" class=\"dataframe\">\n",
       "  <thead>\n",
       "    <tr style=\"text-align: right;\">\n",
       "      <th></th>\n",
       "      <th>year</th>\n",
       "      <th>total</th>\n",
       "    </tr>\n",
       "  </thead>\n",
       "  <tbody>\n",
       "    <tr>\n",
       "      <th>0</th>\n",
       "      <td>2013</td>\n",
       "      <td>420</td>\n",
       "    </tr>\n",
       "    <tr>\n",
       "      <th>1</th>\n",
       "      <td>2014</td>\n",
       "      <td>555</td>\n",
       "    </tr>\n",
       "    <tr>\n",
       "      <th>2</th>\n",
       "      <td>2015</td>\n",
       "      <td>3148</td>\n",
       "    </tr>\n",
       "    <tr>\n",
       "      <th>3</th>\n",
       "      <td>2016</td>\n",
       "      <td>772</td>\n",
       "    </tr>\n",
       "    <tr>\n",
       "      <th>4</th>\n",
       "      <td>2017</td>\n",
       "      <td>9786</td>\n",
       "    </tr>\n",
       "    <tr>\n",
       "      <th>5</th>\n",
       "      <td>2018</td>\n",
       "      <td>22707</td>\n",
       "    </tr>\n",
       "    <tr>\n",
       "      <th>6</th>\n",
       "      <td>2019</td>\n",
       "      <td>525</td>\n",
       "    </tr>\n",
       "    <tr>\n",
       "      <th>7</th>\n",
       "      <td>2020</td>\n",
       "      <td>4659</td>\n",
       "    </tr>\n",
       "  </tbody>\n",
       "</table>\n",
       "</div>"
      ],
      "text/plain": [
       "   year  total\n",
       "0  2013    420\n",
       "1  2014    555\n",
       "2  2015   3148\n",
       "3  2016    772\n",
       "4  2017   9786\n",
       "5  2018  22707\n",
       "6  2019    525\n",
       "7  2020   4659"
      ]
     },
     "execution_count": 22,
     "metadata": {},
     "output_type": "execute_result"
    }
   ],
   "source": [
    "destroyed_per_year = get_per_year_df(measure='destroyed')\n",
    "destroyed_per_year"
   ]
  },
  {
   "cell_type": "code",
   "execution_count": 23,
   "id": "brave-lesbian",
   "metadata": {},
   "outputs": [
    {
     "data": {
      "text/html": [
       "<div>\n",
       "<style scoped>\n",
       "    .dataframe tbody tr th:only-of-type {\n",
       "        vertical-align: middle;\n",
       "    }\n",
       "\n",
       "    .dataframe tbody tr th {\n",
       "        vertical-align: top;\n",
       "    }\n",
       "\n",
       "    .dataframe thead th {\n",
       "        text-align: right;\n",
       "    }\n",
       "</style>\n",
       "<table border=\"1\" class=\"dataframe\">\n",
       "  <thead>\n",
       "    <tr style=\"text-align: right;\">\n",
       "      <th></th>\n",
       "      <th>year</th>\n",
       "      <th>total</th>\n",
       "    </tr>\n",
       "  </thead>\n",
       "  <tbody>\n",
       "    <tr>\n",
       "      <th>0</th>\n",
       "      <td>2013</td>\n",
       "      <td>0</td>\n",
       "    </tr>\n",
       "    <tr>\n",
       "      <th>1</th>\n",
       "      <td>2014</td>\n",
       "      <td>0</td>\n",
       "    </tr>\n",
       "    <tr>\n",
       "      <th>2</th>\n",
       "      <td>2015</td>\n",
       "      <td>6</td>\n",
       "    </tr>\n",
       "    <tr>\n",
       "      <th>3</th>\n",
       "      <td>2016</td>\n",
       "      <td>0</td>\n",
       "    </tr>\n",
       "    <tr>\n",
       "      <th>4</th>\n",
       "      <td>2017</td>\n",
       "      <td>44</td>\n",
       "    </tr>\n",
       "    <tr>\n",
       "      <th>5</th>\n",
       "      <td>2018</td>\n",
       "      <td>91</td>\n",
       "    </tr>\n",
       "    <tr>\n",
       "      <th>6</th>\n",
       "      <td>2019</td>\n",
       "      <td>2</td>\n",
       "    </tr>\n",
       "    <tr>\n",
       "      <th>7</th>\n",
       "      <td>2020</td>\n",
       "      <td>4</td>\n",
       "    </tr>\n",
       "  </tbody>\n",
       "</table>\n",
       "</div>"
      ],
      "text/plain": [
       "   year  total\n",
       "0  2013      0\n",
       "1  2014      0\n",
       "2  2015      6\n",
       "3  2016      0\n",
       "4  2017     44\n",
       "5  2018     91\n",
       "6  2019      2\n",
       "7  2020      4"
      ]
     },
     "execution_count": 23,
     "metadata": {},
     "output_type": "execute_result"
    }
   ],
   "source": [
    "fatalities_per_year = get_per_year_df(measure='fatalities')\n",
    "fatalities_per_year"
   ]
  },
  {
   "cell_type": "code",
   "execution_count": 24,
   "id": "violent-dodge",
   "metadata": {},
   "outputs": [],
   "source": [
    "def convert_per_year_df_to_sql(df_name):\n",
    "    '''Converts a \"per year\" dataframe to a SQL table of the same name'''\n",
    "    \n",
    "    df_name.to_sql(str(df_name), con=engine, \n",
    "               if_exists='replace', index=False)"
   ]
  },
  {
   "cell_type": "code",
   "execution_count": 25,
   "id": "baking-enhancement",
   "metadata": {},
   "outputs": [],
   "source": [
    "# Storing aggregated data in a SQL database\n",
    "\n",
    "convert_per_year_df_to_sql(fires_per_year)\n",
    "convert_per_year_df_to_sql(acres_per_year)\n",
    "convert_per_year_df_to_sql(destroyed_per_year)\n",
    "convert_per_year_df_to_sql(fatalities_per_year)"
   ]
  },
  {
   "cell_type": "markdown",
   "id": "missing-thousand",
   "metadata": {},
   "source": [
    "### Fire season plots "
   ]
  },
  {
   "cell_type": "code",
   "execution_count": 26,
   "id": "intellectual-injection",
   "metadata": {},
   "outputs": [],
   "source": [
    "# preparing data and storing in a SQL table\n",
    "\n",
    "min_year = fire_df['year'].min()\n",
    "max_year = fire_df['year'].max()\n",
    "for year in range(min_year, max_year+1):  \n",
    "    single_year = fire_df[fire_df['year'] == year]\n",
    "    \n",
    "    # grouping by start date and adding rows for missing dates\n",
    "    first_date = str(year) + \"-01-01\"\n",
    "    last_date = str(year) + \"-12-31\"\n",
    "    date_range = pd.date_range(first_date, last_date, freq='D')\n",
    "    fires_per_date = single_year.groupby('start_date').size().reindex(date_range, fill_value=0)\n",
    "    fires_per_date = fires_per_date.reset_index().rename(columns={'index': 'date', 0: 'total'})\n",
    "    \n",
    "    # compute 14 day rolling average (first 13 days will be null)\n",
    "    fires_per_date['avg_14d'] = fires_per_date['total'].rolling(14).mean()\n",
    "    \n",
    "    # converting df to a SQL table\n",
    "    fires_per_date.to_sql('fires_per_date', con=engine, \n",
    "               if_exists='append', index=False)"
   ]
  },
  {
   "cell_type": "code",
   "execution_count": 27,
   "id": "boring-teddy",
   "metadata": {},
   "outputs": [
    {
     "data": {
      "text/html": [
       "<div>\n",
       "<style scoped>\n",
       "    .dataframe tbody tr th:only-of-type {\n",
       "        vertical-align: middle;\n",
       "    }\n",
       "\n",
       "    .dataframe tbody tr th {\n",
       "        vertical-align: top;\n",
       "    }\n",
       "\n",
       "    .dataframe thead th {\n",
       "        text-align: right;\n",
       "    }\n",
       "</style>\n",
       "<table border=\"1\" class=\"dataframe\">\n",
       "  <thead>\n",
       "    <tr style=\"text-align: right;\">\n",
       "      <th></th>\n",
       "      <th>date</th>\n",
       "      <th>total</th>\n",
       "      <th>avg_14d</th>\n",
       "    </tr>\n",
       "  </thead>\n",
       "  <tbody>\n",
       "    <tr>\n",
       "      <th>0</th>\n",
       "      <td>2013-01-01 00:00:00.000000</td>\n",
       "      <td>0</td>\n",
       "      <td>NaN</td>\n",
       "    </tr>\n",
       "    <tr>\n",
       "      <th>1</th>\n",
       "      <td>2013-01-02 00:00:00.000000</td>\n",
       "      <td>0</td>\n",
       "      <td>NaN</td>\n",
       "    </tr>\n",
       "    <tr>\n",
       "      <th>2</th>\n",
       "      <td>2013-01-03 00:00:00.000000</td>\n",
       "      <td>0</td>\n",
       "      <td>NaN</td>\n",
       "    </tr>\n",
       "    <tr>\n",
       "      <th>3</th>\n",
       "      <td>2013-01-04 00:00:00.000000</td>\n",
       "      <td>0</td>\n",
       "      <td>NaN</td>\n",
       "    </tr>\n",
       "    <tr>\n",
       "      <th>4</th>\n",
       "      <td>2013-01-05 00:00:00.000000</td>\n",
       "      <td>0</td>\n",
       "      <td>NaN</td>\n",
       "    </tr>\n",
       "  </tbody>\n",
       "</table>\n",
       "</div>"
      ],
      "text/plain": [
       "                         date  total  avg_14d\n",
       "0  2013-01-01 00:00:00.000000      0      NaN\n",
       "1  2013-01-02 00:00:00.000000      0      NaN\n",
       "2  2013-01-03 00:00:00.000000      0      NaN\n",
       "3  2013-01-04 00:00:00.000000      0      NaN\n",
       "4  2013-01-05 00:00:00.000000      0      NaN"
      ]
     },
     "execution_count": 27,
     "metadata": {},
     "output_type": "execute_result"
    }
   ],
   "source": [
    "# importing from SQL db back into a df\n",
    "\n",
    "fires_per_date = pd.read_sql('SELECT * FROM fires_per_date', con=engine)\n",
    "fires_per_date.head()"
   ]
  },
  {
   "cell_type": "code",
   "execution_count": 28,
   "id": "liked-argentina",
   "metadata": {},
   "outputs": [],
   "source": [
    "# convert date to datetime format and isolate month-day\n",
    "\n",
    "fires_per_date['date'] = pd.to_datetime(fires_per_date['date'])\n",
    "fires_per_date['month-day'] = fires_per_date['date'].dt.strftime('%m-%d')"
   ]
  },
  {
   "cell_type": "code",
   "execution_count": 29,
   "id": "instrumental-thinking",
   "metadata": {},
   "outputs": [
    {
     "data": {
      "text/plain": [
       "array([2013, 2014, 2015, 2016, 2017, 2018, 2019, 2020])"
      ]
     },
     "execution_count": 29,
     "metadata": {},
     "output_type": "execute_result"
    }
   ],
   "source": [
    "# get list of years in df\n",
    "\n",
    "year_list = fires_per_date['date'].dt.year.unique()\n",
    "year_list"
   ]
  },
  {
   "cell_type": "code",
   "execution_count": 30,
   "id": "flush-bride",
   "metadata": {},
   "outputs": [
    {
     "data": {
      "image/png": "[encoded data removed]",
      "text/plain": [
       "<Figure size 864x144 with 1 Axes>"
      ]
     },
     "metadata": {
      "needs_background": "light"
     },
     "output_type": "display_data"
    },
    {
     "data": {
      "image/png": "[encoded data removed]",
      "text/plain": [
       "<Figure size 864x144 with 1 Axes>"
      ]
     },
     "metadata": {
      "needs_background": "light"
     },
     "output_type": "display_data"
    },
    {
     "data": {
      "image/png": "[encoded data removed]",
      "text/plain": [
       "<Figure size 864x144 with 1 Axes>"
      ]
     },
     "metadata": {
      "needs_background": "light"
     },
     "output_type": "display_data"
    },
    {
     "data": {
      "image/png": "[encoded data removed]",
      "text/plain": [
       "<Figure size 864x144 with 1 Axes>"
      ]
     },
     "metadata": {
      "needs_background": "light"
     },
     "output_type": "display_data"
    },
    {
     "data": {
      "image/png": "[encoded data removed]",
      "text/plain": [
       "<Figure size 864x144 with 1 Axes>"
      ]
     },
     "metadata": {
      "needs_background": "light"
     },
     "output_type": "display_data"
    },
    {
     "data": {
      "image/png": "[encoded data removed]",
      "text/plain": [
       "<Figure size 864x144 with 1 Axes>"
      ]
     },
     "metadata": {
      "needs_background": "light"
     },
     "output_type": "display_data"
    },
    {
     "data": {
      "image/png": "[encoded data removed]",
      "text/plain": [
       "<Figure size 864x144 with 1 Axes>"
      ]
     },
     "metadata": {
      "needs_background": "light"
     },
     "output_type": "display_data"
    },
    {
     "data": {
      "image/png": "[encoded data removed]",
      "text/plain": [
       "<Figure size 864x144 with 1 Axes>"
      ]
     },
     "metadata": {
      "needs_background": "light"
     },
     "output_type": "display_data"
    }
   ],
   "source": [
    "# plot number of wildfires over course of the year (14-day rolling average)\n",
    "# title: Number of wildfires over course of the year (14-d rolling ave)\n",
    "\n",
    "for year in year_list:\n",
    "    single_year = fires_per_date[fires_per_date['date'].dt.year == year]\n",
    "    \n",
    "    fig, ax = plt.subplots(figsize=[12, 2])\n",
    "    x = single_year['month-day']\n",
    "    y = single_year['avg_14d']\n",
    "    ax.plot(x, y)\n",
    "    \n",
    "    months = ['Jan', 'Feb', 'Mar', 'Apr', 'May', 'Jun', 'Jul', 'Aug', 'Sep', 'Oct', 'Nov', 'Dec']\n",
    "    ticks_x = np.linspace(0, 365, 12)\n",
    "    ticks_y = np.linspace(0, 4, 5)\n",
    "\n",
    "    ax.set_title(year, fontsize='18')\n",
    "    ax.set_xlabel('Months', fontsize='14')\n",
    "    ax.set_ylabel('# of wildfires', fontsize='14')\n",
    "    ax.set_xticks(ticks=ticks_x)\n",
    "    ax.set_xticklabels(months, fontsize='12')\n",
    "    ax.set_yticks(ticks_y);\n"
   ]
  }
 ],
 "metadata": {
  "kernelspec": {
   "display_name": "Python [conda env:metis] *",
   "language": "python",
   "name": "conda-env-metis-py"
  },
  "language_info": {
   "codemirror_mode": {
    "name": "ipython",
    "version": 3
   },
   "file_extension": ".py",
   "mimetype": "text/x-python",
   "name": "python",
   "nbconvert_exporter": "python",
   "pygments_lexer": "ipython3",
   "version": "3.8.8"
  },
  "toc": {
   "base_numbering": 1,
   "nav_menu": {},
   "number_sections": true,
   "sideBar": true,
   "skip_h1_title": false,
   "title_cell": "Table of Contents",
   "title_sidebar": "Contents",
   "toc_cell": false,
   "toc_position": {},
   "toc_section_display": true,
   "toc_window_display": false
  }
 },
 "nbformat": 4,
 "nbformat_minor": 5
}
